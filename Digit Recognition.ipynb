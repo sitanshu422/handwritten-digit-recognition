{
 "cells": [
  {
   "cell_type": "code",
   "execution_count": 4,
   "metadata": {},
   "outputs": [
    {
     "name": "stdout",
     "output_type": "stream",
     "text": [
      "data shape: (1797, 64)\n",
      "images shape: (1797, 8, 8)\n",
      "target shape: (1797,)\n"
     ]
    }
   ],
   "source": [
    "from sklearn.datasets import load_digits\n",
    "#importing the load_digits method from datasets sub module in sklearn module\n",
    "\n",
    "dataset=load_digits()\n",
    "\n",
    "data=dataset.data\n",
    "images=dataset.images\n",
    "target=dataset.target\n",
    "\n",
    "print('data shape:',data.shape)\n",
    "print('images shape:',images.shape)\n",
    "print('target shape:',target.shape)"
   ]
  },
  {
   "cell_type": "code",
   "execution_count": 5,
   "metadata": {},
   "outputs": [
    {
     "data": {
      "text/plain": [
       "<matplotlib.image.AxesImage at 0x23783017340>"
      ]
     },
     "execution_count": 5,
     "metadata": {},
     "output_type": "execute_result"
    },
    {
     "data": {
      "image/png": "[encoded data removed]",
      "text/plain": [
       "<Figure size 432x288 with 1 Axes>"
      ]
     },
     "metadata": {
      "needs_background": "light"
     },
     "output_type": "display_data"
    }
   ],
   "source": [
    "from matplotlib import pyplot as plt\n",
    "\n",
    "plt.imshow(images[1016],cmap='gray')"
   ]
  },
  {
   "cell_type": "code",
   "execution_count": 6,
   "metadata": {},
   "outputs": [
    {
     "name": "stdout",
     "output_type": "stream",
     "text": [
      "[[ 0.  0.  9. 16.  7.  0.  0.  0.]\n",
      " [ 0.  0. 14. 13. 16.  2.  0.  0.]\n",
      " [ 0.  0.  7.  9. 15.  8.  0.  0.]\n",
      " [ 0.  0.  0.  1. 13.  9.  0.  0.]\n",
      " [ 0.  0.  0.  0. 14.  7.  0.  0.]\n",
      " [ 0.  0.  0.  4. 16.  5.  0.  0.]\n",
      " [ 0.  0.  7. 16. 16.  8.  6.  0.]\n",
      " [ 0.  0.  9. 15. 12. 16. 16.  9.]]\n"
     ]
    }
   ],
   "source": [
    "print(images[1016])"
   ]
  },
  {
   "cell_type": "code",
   "execution_count": 7,
   "metadata": {},
   "outputs": [
    {
     "name": "stdout",
     "output_type": "stream",
     "text": [
      "[ 0.  0.  9. 16.  7.  0.  0.  0.  0.  0. 14. 13. 16.  2.  0.  0.  0.  0.\n",
      "  7.  9. 15.  8.  0.  0.  0.  0.  0.  1. 13.  9.  0.  0.  0.  0.  0.  0.\n",
      " 14.  7.  0.  0.  0.  0.  0.  4. 16.  5.  0.  0.  0.  0.  7. 16. 16.  8.\n",
      "  6.  0.  0.  0.  9. 15. 12. 16. 16.  9.]\n"
     ]
    }
   ],
   "source": [
    "print(data[1016])"
   ]
  },
  {
   "cell_type": "code",
   "execution_count": 8,
   "metadata": {},
   "outputs": [],
   "source": [
    "from sklearn.model_selection import train_test_split\n",
    "\n",
    "train_data,test_data,train_target,test_target=train_test_split(data,target,test_size=0.2)"
   ]
  },
  {
   "cell_type": "code",
   "execution_count": 9,
   "metadata": {},
   "outputs": [
    {
     "data": {
      "text/plain": [
       "KNeighborsClassifier(n_neighbors=3)"
      ]
     },
     "execution_count": 9,
     "metadata": {},
     "output_type": "execute_result"
    }
   ],
   "source": [
    "from sklearn.neighbors import KNeighborsClassifier\n",
    "#import KNN Algorithm\n",
    "\n",
    "algorithm=KNeighborsClassifier(n_neighbors=3)\n",
    "#New KNN Algorithm (Object)\n",
    "\n",
    "algorithm.fit(train_data,train_target)\n",
    "#training the KNN Algorithm"
   ]
  },
  {
   "cell_type": "code",
   "execution_count": 10,
   "metadata": {},
   "outputs": [
    {
     "name": "stdout",
     "output_type": "stream",
     "text": [
      "train data size: (1437, 64)\n",
      "test data size: (360, 64)\n"
     ]
    }
   ],
   "source": [
    "print('train data size:',train_data.shape)\n",
    "print('test data size:',test_data.shape)"
   ]
  },
  {
   "cell_type": "code",
   "execution_count": 11,
   "metadata": {},
   "outputs": [],
   "source": [
    "predicted_targets=algorithm.predict(test_data)"
   ]
  },
  {
   "cell_type": "code",
   "execution_count": 12,
   "metadata": {},
   "outputs": [
    {
     "name": "stdout",
     "output_type": "stream",
     "text": [
      "Actual Targets: [3 8 0 5 3 3 1 2 1 7 1 3 7 1 0 6 2 6 1 2 3 8 9 7 3 4 3 6 8 7 6 5 0 6 8 7 0\n",
      " 8 1 9 6 2 7 5 9 7 4 4 0 8 3 2 4 1 8 8 5 6 0 4 1 1 3 8 0 8 0 0 7 5 1 5 8 9\n",
      " 4 1 4 2 2 8 4 0 5 8 9 8 7 7 3 1 3 7 6 6 1 7 2 6 8 4 9 6 1 4 3 2 4 7 4 5 3\n",
      " 4 0 5 9 7 2 2 8 5 4 2 5 4 5 0 6 7 2 3 3 3 4 3 9 9 6 2 6 1 3 1 7 9 6 1 4 5\n",
      " 9 4 8 3 9 4 3 8 7 7 4 8 2 8 2 8 7 3 5 7 7 8 9 0 5 0 1 2 6 4 2 2 4 8 9 8 9\n",
      " 0 6 3 1 6 8 2 2 6 2 8 6 3 0 8 5 4 5 6 9 1 0 7 6 0 4 7 7 2 5 8 2 1 4 1 9 9\n",
      " 6 7 0 6 6 1 2 8 1 7 1 8 9 8 4 8 1 7 7 3 9 9 3 9 5 2 4 0 7 5 1 7 5 8 6 7 9\n",
      " 6 2 2 8 7 9 6 2 4 2 4 2 1 7 6 5 3 0 6 2 4 4 2 6 2 3 3 3 7 8 8 3 9 6 5 8 6\n",
      " 1 3 2 5 2 1 4 4 2 0 1 7 9 8 0 9 6 3 2 3 9 0 2 0 8 5 9 8 7 2 1 1 3 4 8 9 4\n",
      " 1 5 1 4 2 4 3 7 8 5 2 5 6 4 4 1 9 8 2 5 4 3 0 7 7 4 3]\n",
      "Predicted Targets: [3 8 0 5 3 3 1 2 1 7 1 3 7 1 0 6 2 6 1 2 3 8 9 7 3 4 3 6 8 7 6 5 0 6 8 7 0\n",
      " 8 1 9 6 2 7 5 9 7 4 4 0 8 3 2 4 1 8 8 5 6 0 1 1 1 3 8 0 8 0 0 7 5 1 5 8 9\n",
      " 4 1 4 2 2 8 4 0 5 8 9 8 7 7 3 1 3 7 6 6 1 7 2 6 8 4 9 6 1 4 3 2 4 7 4 5 3\n",
      " 4 0 5 9 7 2 2 8 5 4 2 5 4 5 0 6 7 2 3 3 3 4 3 9 3 6 2 6 1 3 1 7 9 6 1 4 5\n",
      " 9 4 8 3 9 4 3 8 7 9 4 8 2 8 2 8 7 3 5 7 7 8 9 0 5 0 1 2 6 4 2 2 4 8 9 8 9\n",
      " 0 6 7 1 6 8 2 2 6 7 8 6 3 0 9 5 4 5 6 9 1 0 7 6 0 4 7 7 2 5 8 2 1 4 1 9 9\n",
      " 6 7 0 6 6 1 2 8 1 7 1 8 9 8 4 8 1 7 7 3 9 9 3 9 5 2 4 0 7 5 1 7 5 8 6 7 9\n",
      " 6 2 2 8 7 9 6 2 4 2 4 2 1 7 6 5 3 0 6 2 4 4 2 6 2 3 3 3 7 8 8 3 9 6 5 8 6\n",
      " 1 3 2 5 2 1 4 4 2 0 1 7 9 8 0 9 6 3 2 3 9 0 2 0 8 5 9 8 7 2 1 1 3 4 8 9 4\n",
      " 1 5 5 4 2 4 3 7 8 5 2 5 6 4 4 1 9 8 2 5 4 3 0 7 7 4 3]\n"
     ]
    }
   ],
   "source": [
    "print('Actual Targets:',test_target)\n",
    "print('Predicted Targets:',predicted_targets)"
   ]
  },
  {
   "cell_type": "code",
   "execution_count": 13,
   "metadata": {},
   "outputs": [
    {
     "name": "stdout",
     "output_type": "stream",
     "text": [
      "Accuracy: 0.9805555555555555\n"
     ]
    }
   ],
   "source": [
    "from sklearn.metrics import accuracy_score\n",
    "\n",
    "acc=accuracy_score(test_target,predicted_targets)\n",
    "print('Accuracy:',acc)"
   ]
  },
  {
   "cell_type": "code",
   "execution_count": null,
   "metadata": {},
   "outputs": [],
   "source": []
  }
 ],
 "metadata": {
  "kernelspec": {
   "display_name": "Python 3",
   "language": "python",
   "name": "python3"
  },
  "language_info": {
   "codemirror_mode": {
    "name": "ipython",
    "version": 3
   },
   "file_extension": ".py",
   "mimetype": "text/x-python",
   "name": "python",
   "nbconvert_exporter": "python",
   "pygments_lexer": "ipython3",
   "version": "3.8.5"
  }
 },
 "nbformat": 4,
 "nbformat_minor": 4
}
